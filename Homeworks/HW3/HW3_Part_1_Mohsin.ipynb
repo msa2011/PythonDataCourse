{
 "cells": [
  {
   "cell_type": "markdown",
   "metadata": {},
   "source": [
    "# Class 3 HW Part 1: numpy and scipy\n",
    "Begin by importing the libraries that you'll need for today: numpy, matplotlib, pandas, and seaborn."
   ]
  },
  {
   "cell_type": "code",
   "execution_count": 1,
   "metadata": {},
   "outputs": [],
   "source": [
    "import numpy as np\n",
    "import matplotlib.pyplot as plt\n",
    "import pandas as pd\n",
    "import seaborn as sns"
   ]
  },
  {
   "cell_type": "markdown",
   "metadata": {},
   "source": [
    "## <font color = blue>Problem 1: a few basic problems on creating numpy arrays </font>\n",
    "#### 1a.) Create a 10x5 numpy array \"x\" filled with ones, and print the data type of the first value of the first element."
   ]
  },
  {
   "cell_type": "code",
   "execution_count": 8,
   "metadata": {},
   "outputs": [
    {
     "name": "stdout",
     "output_type": "stream",
     "text": [
      "<class 'numpy.float64'>\n"
     ]
    }
   ],
   "source": [
    "#hint: is there a numpy function that makes this easier?\n",
    "x = np.ones((10,5))\n",
    "print(type(x[0,0]))"
   ]
  },
  {
   "cell_type": "markdown",
   "metadata": {},
   "source": [
    "#### 1b.) Find two separate ways to create the same matrix \"x\", containing ints instead of floats"
   ]
  },
  {
   "cell_type": "code",
   "execution_count": 17,
   "metadata": {},
   "outputs": [
    {
     "name": "stdout",
     "output_type": "stream",
     "text": [
      "Method 1:  <class 'numpy.int64'>\n",
      "Method 2:  <class 'numpy.int64'>\n"
     ]
    }
   ],
   "source": [
    "#hint: there are more than two ways! Just pick the two that are easiest for you.\n",
    "#Method 1\n",
    "x = np.ones((10,5),dtype=int)\n",
    "print('Method 1: ',type(x[0,0]))\n",
    "\n",
    "#Method 2\n",
    "x = np.ones((10,5))\n",
    "x = x.astype(int)\n",
    "print('Method 2: ',type(x[0,0]))"
   ]
  },
  {
   "cell_type": "markdown",
   "metadata": {},
   "source": [
    "#### 1c.) Reassign x to a 1D array of 50 evenly spaced elements between 2 and 20, inclusive."
   ]
  },
  {
   "cell_type": "code",
   "execution_count": 36,
   "metadata": {},
   "outputs": [
    {
     "name": "stdout",
     "output_type": "stream",
     "text": [
      "x:  [ 2.          2.36734694  2.73469388  3.10204082  3.46938776  3.83673469\n",
      "  4.20408163  4.57142857  4.93877551  5.30612245  5.67346939  6.04081633\n",
      "  6.40816327  6.7755102   7.14285714  7.51020408  7.87755102  8.24489796\n",
      "  8.6122449   8.97959184  9.34693878  9.71428571 10.08163265 10.44897959\n",
      " 10.81632653 11.18367347 11.55102041 11.91836735 12.28571429 12.65306122\n",
      " 13.02040816 13.3877551  13.75510204 14.12244898 14.48979592 14.85714286\n",
      " 15.2244898  15.59183673 15.95918367 16.32653061 16.69387755 17.06122449\n",
      " 17.42857143 17.79591837 18.16326531 18.53061224 18.89795918 19.26530612\n",
      " 19.63265306 20.        ] float64\n"
     ]
    }
   ],
   "source": [
    "x = np.linspace(2,20,50)\n",
    "print('x: ',x,x.dtype)"
   ]
  },
  {
   "cell_type": "markdown",
   "metadata": {},
   "source": [
    "#### 1d.) Reassign x to a 1D array of 50 evenly spaced elements on a log scale between 2 and 20, exclusive."
   ]
  },
  {
   "cell_type": "code",
   "execution_count": 42,
   "metadata": {},
   "outputs": [
    {
     "name": "stdout",
     "output_type": "stream",
     "text": [
      "x: , [ 2.          2.09622627  2.19708228  2.3027908   2.41358528  2.52971043\n",
      "  2.65142273  2.77899099  2.91269696  3.05283593  3.19971744  3.35366587\n",
      "  3.51502125  3.68413994  3.86139546  4.0471793   4.24190178  4.44599297\n",
      "  4.65990362  4.88410619  5.11909585  5.36539159  5.6235374   5.89410341\n",
      "  6.17768719  6.47491509  6.78644354  7.11296061  7.45518744  7.81387987\n",
      "  8.18983012  8.58386852  8.99686534  9.42973273  9.88342672 10.35894936\n",
      " 10.85735088 11.37973206 11.92724663 12.50110385 13.10257114 13.7329769\n",
      " 14.39371346 15.08624013 15.81208642 16.57285546 17.37022748 18.20596356\n",
      " 19.08190953 20.        ] float64\n"
     ]
    }
   ],
   "source": [
    "x = np.geomspace(2,20,50)\n",
    "print('x: ,',x,x.dtype)"
   ]
  },
  {
   "cell_type": "markdown",
   "metadata": {},
   "source": [
    "## <font color = blue> Problem 2: using numpy and matplotlib to create and view some fake data: a noisy sin wave </font>\n",
    "#### 2a.) Using np.linspace, create a 1D array \"t\" containing 1000 evenly spaced elements between 0 and 1, exclusive. Print the first 50 elements to check that your 1D array has values incrementing by 0.001."
   ]
  },
  {
   "cell_type": "code",
   "execution_count": null,
   "metadata": {},
   "outputs": [],
   "source": []
  },
  {
   "cell_type": "markdown",
   "metadata": {},
   "source": [
    "#### 2b.) Using numpy's sin function, create a sin wave equal to $sin = sin(2\\pi * (4*t))$, and a 1D array \"noise\", the same shape as your sin array,  filled with random float values between -1 and 1. Set a third array \"noisy_sin\" = <code>sin + noise</code>.  "
   ]
  },
  {
   "cell_type": "code",
   "execution_count": 144,
   "metadata": {},
   "outputs": [],
   "source": [
    "#hint: use np.pi for your sin wave\n",
    "#hint: randint, which lets you input a range, will only output integers\n",
    "#you can normalize to [-1,1] via 2*(x-x.min()/x.max()-x.min())-1\n"
   ]
  },
  {
   "cell_type": "markdown",
   "metadata": {},
   "source": [
    " #### 2d.) In two plots (use subplots), plot <code>(t, sin)</code> in red and <code>(t, noisysin)</code> in blue. Title plots appropriately, including the frequency of the wave that you've generated!"
   ]
  },
  {
   "cell_type": "code",
   "execution_count": null,
   "metadata": {},
   "outputs": [],
   "source": []
  },
  {
   "cell_type": "markdown",
   "metadata": {},
   "source": [
    "## <font color = blue> Problem 3: Using SciPy to construct/apply a filter </font>\n",
    "### Before begining, the problem, go back up to your first cell and import signal from scipy.\n",
    "#### 3a.) Using SciPy.signal's butterworth filter function (scipy.signal.butter: documentation [here](https://docs.scipy.org/doc/scipy/reference/generated/scipy.signal.butter.html)), create a <font color = red>2nd order</font>,<font color = red> low-pass</font>,<font color = red> analog</font> filter with a cutoff frequency of <font color = red>10 rad/s</font>."
   ]
  },
  {
   "cell_type": "code",
   "execution_count": 145,
   "metadata": {},
   "outputs": [],
   "source": [
    "#hint: signal.butter returns TWO outputs - you'll want to set it equal to two\n",
    "#comma-separated variables. This is demonstrated clearly in the documentation!\n"
   ]
  },
  {
   "cell_type": "markdown",
   "metadata": {},
   "source": [
    "#### 3b.) Using SciPy.signal's freq function (documentation [here](https://docs.scipy.org/doc/scipy-0.16.0/reference/generated/scipy.signal.freqs.html)), to compute the frequency response of the filter that you generated in 3a."
   ]
  },
  {
   "cell_type": "code",
   "execution_count": 1,
   "metadata": {},
   "outputs": [],
   "source": [
    "#Similarly, the documentation givesa very thorough example!\n",
    "\n"
   ]
  },
  {
   "cell_type": "markdown",
   "metadata": {},
   "source": [
    "#### 3c.) Passing the input <code>(w, 20 * np.log10(abs(h)))</code> into plt.plot (and setting the x-axis to logscale) or plt.semilogx, plot your filter in log-scale. Title and label axes appropriately. Use matplotlib's \"grid\" method to include a grid background from <font color = red> both </font> the x and y axes."
   ]
  },
  {
   "cell_type": "code",
   "execution_count": null,
   "metadata": {},
   "outputs": [],
   "source": []
  },
  {
   "cell_type": "markdown",
   "metadata": {},
   "source": [
    "#### 3d.) Once again, use signal.butter() to create a filter. This time, create a <font color=red>second order, low-pass </font> <font color=orange> digital filter</font><font color=red> with a frequency cutoff of 10Hz</font>  filter. In this case, the frequency cutoff must be __normalized__ . We can do this by dividing our desired cutoff frequency in __Hz__ by half the sampling frequency! As each timestep in \"t\" = 0.001, our sampling frequency is 1000.\n",
    "<br> \n",
    "#### To make this code readable to future users, assign the sampling frequency to a variable \"fs\" and comment your code well."
   ]
  },
  {
   "cell_type": "code",
   "execution_count": null,
   "metadata": {},
   "outputs": [],
   "source": []
  },
  {
   "cell_type": "markdown",
   "metadata": {},
   "source": [
    "#### 3e.) Finally, by passing the two outputs of your digital filter above and the signal you want filtered into signal.filtfilt(), create a variable called \"filtered_signal\" that is equal to the noisy sin wave with your digital filter applied to it! \n",
    "<br><br>\n",
    "#### Using 4x1 subplots, plot your (1) initial sin wave in blue, (2) your noisy sin wave in orange, (3) your filtered noisy sin wave in green, and (4) all three overlaid."
   ]
  },
  {
   "cell_type": "code",
   "execution_count": null,
   "metadata": {},
   "outputs": [],
   "source": []
  },
  {
   "cell_type": "code",
   "execution_count": null,
   "metadata": {},
   "outputs": [],
   "source": []
  },
  {
   "cell_type": "code",
   "execution_count": null,
   "metadata": {},
   "outputs": [],
   "source": []
  },
  {
   "cell_type": "code",
   "execution_count": null,
   "metadata": {},
   "outputs": [],
   "source": []
  }
 ],
 "metadata": {
  "kernelspec": {
   "display_name": "Python 3",
   "language": "python",
   "name": "python3"
  },
  "language_info": {
   "codemirror_mode": {
    "name": "ipython",
    "version": 3
   },
   "file_extension": ".py",
   "mimetype": "text/x-python",
   "name": "python",
   "nbconvert_exporter": "python",
   "pygments_lexer": "ipython3",
   "version": "3.6.8"
  }
 },
 "nbformat": 4,
 "nbformat_minor": 4
}
